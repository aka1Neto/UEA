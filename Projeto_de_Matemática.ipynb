{
  "nbformat": 4,
  "nbformat_minor": 0,
  "metadata": {
    "colab": {
      "provenance": [],
      "toc_visible": true,
      "authorship_tag": "ABX9TyOqACEFXR2bS0csB6uy5Pl2",
      "include_colab_link": true
    },
    "kernelspec": {
      "name": "python3",
      "display_name": "Python 3"
    },
    "language_info": {
      "name": "python"
    }
  },
  "cells": [
    {
      "cell_type": "markdown",
      "metadata": {
        "id": "view-in-github",
        "colab_type": "text"
      },
      "source": [
        "<a href=\"https://colab.research.google.com/github/aka1Neto/UEA/blob/main/Projeto_de_Matem%C3%A1tica.ipynb\" target=\"_parent\"><img src=\"https://colab.research.google.com/assets/colab-badge.svg\" alt=\"Open In Colab\"/></a>"
      ]
    },
    {
      "cell_type": "code",
      "execution_count": null,
      "metadata": {
        "id": "0cw88XLY3869"
      },
      "outputs": [],
      "source": [
        "import folium as fl;\n",
        "import math;\n",
        "from geopy.geocoders import Nominatim;\n",
        "from geopy import distance;"
      ]
    },
    {
      "cell_type": "code",
      "source": [
        "def locais(nome):\n",
        "  geolocator = Nominatim(user_agent=\"Projeto\");\n",
        "  location = geolocator.geocode(nome);\n",
        "  return location;"
      ],
      "metadata": {
        "id": "QRT6CrBBIbo9"
      },
      "execution_count": null,
      "outputs": []
    },
    {
      "cell_type": "markdown",
      "source": [
        "#Localizando os lugares desejados"
      ],
      "metadata": {
        "id": "-VFpF-uSQlcI"
      }
    },
    {
      "cell_type": "code",
      "source": [
        "estado = locais(input(\"Digite o estado:\\n\"));\n",
        "cidade1 = locais(input(\"Digite a primeira cidade:\\n\"));\n",
        "cidade2 = locais(input(\"Digite a segunda cidade:\\n\"));\n",
        "cidade3 = locais(input(\"Digite a terceira cidade:\\n\"));"
      ],
      "metadata": {
        "colab": {
          "base_uri": "https://localhost:8080/"
        },
        "id": "1L6UKOyNJXyu",
        "outputId": "554a28ff-1ef0-44cc-bddb-b0bc96cfcf42"
      },
      "execution_count": null,
      "outputs": [
        {
          "name": "stdout",
          "output_type": "stream",
          "text": [
            "Digite o estado:\n",
            "amazonas\n",
            "Digite a primeira cidade:\n",
            "manaus\n",
            "Digite a segunda cidade:\n",
            "presidente figueiredo\n",
            "Digite a terceira cidade:\n",
            "itacoatiara\n"
          ]
        }
      ]
    },
    {
      "cell_type": "code",
      "source": [
        "def nome_cidade(cidade):\n",
        "  lista_cidade = cidade.address.split(',');\n",
        "  nome_cidade = lista_cidade[0];\n",
        "  return nome_cidade;"
      ],
      "metadata": {
        "id": "KbdMPm8f9Oyc"
      },
      "execution_count": null,
      "outputs": []
    },
    {
      "cell_type": "code",
      "source": [
        "ncidade1 = nome_cidade(cidade1);\n",
        "ncidade2 = nome_cidade(cidade2);\n",
        "ncidade3 = nome_cidade(cidade3);"
      ],
      "metadata": {
        "id": "exWUdrIp9707"
      },
      "execution_count": null,
      "outputs": []
    },
    {
      "cell_type": "code",
      "source": [
        "def fazer_mapa():\n",
        "  mapa = fl.Map(location=[estado.latitude,estado.longitude], zoom_start=6);\n",
        "  fl.Marker(\n",
        "      [cidade1.latitude, cidade1.longitude], popup=f'Cidade 1, {ncidade1}').add_to(mapa)\n",
        "  fl.Marker(\n",
        "      [cidade2.latitude, cidade2.longitude], popup=f'Cidade 2, {ncidade2}').add_to(mapa)\n",
        "  fl.Marker(\n",
        "      [cidade3.latitude, cidade3.longitude], popup=f'Cidade 3, {ncidade3}').add_to(mapa)\n",
        "  return mapa;"
      ],
      "metadata": {
        "id": "8ao_qFvF8UA6"
      },
      "execution_count": null,
      "outputs": []
    },
    {
      "cell_type": "code",
      "source": [
        "mapa = fazer_mapa();\n",
        "mapa"
      ],
      "metadata": {
        "colab": {
          "base_uri": "https://localhost:8080/",
          "height": 578
        },
        "id": "hZ-Ll3b1uFy_",
        "outputId": "0196073b-018a-4d63-e3a1-a12f43e21172"
      },
      "execution_count": null,
      "outputs": [
        {
          "output_type": "execute_result",
          "data": {
            "text/plain": [
              "<folium.folium.Map at 0x7f4cd2d7a390>"
            ],
            "text/html": [
              "<div style=\"width:100%;\"><div style=\"position:relative;width:100%;height:0;padding-bottom:60%;\"><span style=\"color:#565656\">Make this Notebook Trusted to load map: File -> Trust Notebook</span><iframe srcdoc=\"&lt;!DOCTYPE html&gt;\n",
              "&lt;head&gt;    \n",
              "    &lt;meta http-equiv=&quot;content-type&quot; content=&quot;text/html; charset=UTF-8&quot; /&gt;\n",
              "    &lt;script&gt;L_PREFER_CANVAS=false; L_NO_TOUCH=false; L_DISABLE_3D=false;&lt;/script&gt;\n",
              "    &lt;script src=&quot;https://cdn.jsdelivr.net/npm/leaflet@1.4.0/dist/leaflet.js&quot;&gt;&lt;/script&gt;\n",
              "    &lt;script src=&quot;https://code.jquery.com/jquery-1.12.4.min.js&quot;&gt;&lt;/script&gt;\n",
              "    &lt;script src=&quot;https://maxcdn.bootstrapcdn.com/bootstrap/3.2.0/js/bootstrap.min.js&quot;&gt;&lt;/script&gt;\n",
              "    &lt;script src=&quot;https://cdnjs.cloudflare.com/ajax/libs/Leaflet.awesome-markers/2.0.2/leaflet.awesome-markers.js&quot;&gt;&lt;/script&gt;\n",
              "    &lt;link rel=&quot;stylesheet&quot; href=&quot;https://cdn.jsdelivr.net/npm/leaflet@1.4.0/dist/leaflet.css&quot;/&gt;\n",
              "    &lt;link rel=&quot;stylesheet&quot; href=&quot;https://maxcdn.bootstrapcdn.com/bootstrap/3.2.0/css/bootstrap.min.css&quot;/&gt;\n",
              "    &lt;link rel=&quot;stylesheet&quot; href=&quot;https://maxcdn.bootstrapcdn.com/bootstrap/3.2.0/css/bootstrap-theme.min.css&quot;/&gt;\n",
              "    &lt;link rel=&quot;stylesheet&quot; href=&quot;https://maxcdn.bootstrapcdn.com/font-awesome/4.6.3/css/font-awesome.min.css&quot;/&gt;\n",
              "    &lt;link rel=&quot;stylesheet&quot; href=&quot;https://cdnjs.cloudflare.com/ajax/libs/Leaflet.awesome-markers/2.0.2/leaflet.awesome-markers.css&quot;/&gt;\n",
              "    &lt;link rel=&quot;stylesheet&quot; href=&quot;https://rawcdn.githack.com/python-visualization/folium/master/folium/templates/leaflet.awesome.rotate.css&quot;/&gt;\n",
              "    &lt;style&gt;html, body {width: 100%;height: 100%;margin: 0;padding: 0;}&lt;/style&gt;\n",
              "    &lt;style&gt;#map {position:absolute;top:0;bottom:0;right:0;left:0;}&lt;/style&gt;\n",
              "    \n",
              "    &lt;meta name=&quot;viewport&quot; content=&quot;width=device-width,\n",
              "        initial-scale=1.0, maximum-scale=1.0, user-scalable=no&quot; /&gt;\n",
              "    &lt;style&gt;#map_8651db4c25fdabba099e8db0426f690f {\n",
              "        position: relative;\n",
              "        width: 100.0%;\n",
              "        height: 100.0%;\n",
              "        left: 0.0%;\n",
              "        top: 0.0%;\n",
              "        }\n",
              "    &lt;/style&gt;\n",
              "&lt;/head&gt;\n",
              "&lt;body&gt;    \n",
              "    \n",
              "    &lt;div class=&quot;folium-map&quot; id=&quot;map_8651db4c25fdabba099e8db0426f690f&quot; &gt;&lt;/div&gt;\n",
              "&lt;/body&gt;\n",
              "&lt;script&gt;    \n",
              "    \n",
              "    \n",
              "        var bounds = null;\n",
              "    \n",
              "\n",
              "    var map_8651db4c25fdabba099e8db0426f690f = L.map(\n",
              "        &#x27;map_8651db4c25fdabba099e8db0426f690f&#x27;, {\n",
              "        center: [-4.479925, -63.5185396],\n",
              "        zoom: 6,\n",
              "        maxBounds: bounds,\n",
              "        layers: [],\n",
              "        worldCopyJump: false,\n",
              "        crs: L.CRS.EPSG3857,\n",
              "        zoomControl: true,\n",
              "        });\n",
              "\n",
              "\n",
              "    \n",
              "    var tile_layer_e71b42602567c751932d2a32d2c504a2 = L.tileLayer(\n",
              "        &#x27;https://{s}.tile.openstreetmap.org/{z}/{x}/{y}.png&#x27;,\n",
              "        {\n",
              "        &quot;attribution&quot;: null,\n",
              "        &quot;detectRetina&quot;: false,\n",
              "        &quot;maxNativeZoom&quot;: 18,\n",
              "        &quot;maxZoom&quot;: 18,\n",
              "        &quot;minZoom&quot;: 0,\n",
              "        &quot;noWrap&quot;: false,\n",
              "        &quot;opacity&quot;: 1,\n",
              "        &quot;subdomains&quot;: &quot;abc&quot;,\n",
              "        &quot;tms&quot;: false\n",
              "}).addTo(map_8651db4c25fdabba099e8db0426f690f);\n",
              "    \n",
              "        var marker_ee083a30f0ca6ac70c0c4de153fee166 = L.marker(\n",
              "            [-3.1316333, -59.9825041],\n",
              "            {\n",
              "                icon: new L.Icon.Default(),\n",
              "                }\n",
              "            ).addTo(map_8651db4c25fdabba099e8db0426f690f);\n",
              "        \n",
              "    \n",
              "            var popup_3d57b13a5f2ba03698d3256a919d5b9d = L.popup({maxWidth: &#x27;100%&#x27;\n",
              "            \n",
              "            });\n",
              "\n",
              "            \n",
              "                var html_4becc519dbc88fcb69698a6bb21e5abf = $(`&lt;div id=&quot;html_4becc519dbc88fcb69698a6bb21e5abf&quot; style=&quot;width: 100.0%; height: 100.0%;&quot;&gt;Cidade 1, Manaus&lt;/div&gt;`)[0];\n",
              "                popup_3d57b13a5f2ba03698d3256a919d5b9d.setContent(html_4becc519dbc88fcb69698a6bb21e5abf);\n",
              "            \n",
              "\n",
              "            marker_ee083a30f0ca6ac70c0c4de153fee166.bindPopup(popup_3d57b13a5f2ba03698d3256a919d5b9d)\n",
              "            ;\n",
              "\n",
              "            \n",
              "        \n",
              "    \n",
              "        var marker_665d9fbf5a2df93570d590725486ce50 = L.marker(\n",
              "            [-2.0486359, -60.0236658],\n",
              "            {\n",
              "                icon: new L.Icon.Default(),\n",
              "                }\n",
              "            ).addTo(map_8651db4c25fdabba099e8db0426f690f);\n",
              "        \n",
              "    \n",
              "            var popup_2ff50d3e134d29c028ca46b96260d26c = L.popup({maxWidth: &#x27;100%&#x27;\n",
              "            \n",
              "            });\n",
              "\n",
              "            \n",
              "                var html_e134540e172d6c0800e2c9daaa567472 = $(`&lt;div id=&quot;html_e134540e172d6c0800e2c9daaa567472&quot; style=&quot;width: 100.0%; height: 100.0%;&quot;&gt;Cidade 2, Presidente Figueiredo&lt;/div&gt;`)[0];\n",
              "                popup_2ff50d3e134d29c028ca46b96260d26c.setContent(html_e134540e172d6c0800e2c9daaa567472);\n",
              "            \n",
              "\n",
              "            marker_665d9fbf5a2df93570d590725486ce50.bindPopup(popup_2ff50d3e134d29c028ca46b96260d26c)\n",
              "            ;\n",
              "\n",
              "            \n",
              "        \n",
              "    \n",
              "        var marker_13a0a6da0b26a25a00be261b48cb2e11 = L.marker(\n",
              "            [-3.1477898, -58.4461041],\n",
              "            {\n",
              "                icon: new L.Icon.Default(),\n",
              "                }\n",
              "            ).addTo(map_8651db4c25fdabba099e8db0426f690f);\n",
              "        \n",
              "    \n",
              "            var popup_2fa195b39c226cf64cb511af55743777 = L.popup({maxWidth: &#x27;100%&#x27;\n",
              "            \n",
              "            });\n",
              "\n",
              "            \n",
              "                var html_1e7e09e47c1205eed7cbc40c36496ca1 = $(`&lt;div id=&quot;html_1e7e09e47c1205eed7cbc40c36496ca1&quot; style=&quot;width: 100.0%; height: 100.0%;&quot;&gt;Cidade 3, Itacoatiara&lt;/div&gt;`)[0];\n",
              "                popup_2fa195b39c226cf64cb511af55743777.setContent(html_1e7e09e47c1205eed7cbc40c36496ca1);\n",
              "            \n",
              "\n",
              "            marker_13a0a6da0b26a25a00be261b48cb2e11.bindPopup(popup_2fa195b39c226cf64cb511af55743777)\n",
              "            ;\n",
              "\n",
              "            \n",
              "        \n",
              "&lt;/script&gt;\" style=\"position:absolute;width:100%;height:100%;left:0;top:0;border:none !important;\" allowfullscreen webkitallowfullscreen mozallowfullscreen></iframe></div></div>"
            ]
          },
          "metadata": {},
          "execution_count": 7
        }
      ]
    },
    {
      "cell_type": "markdown",
      "source": [
        "# Distâncias"
      ],
      "metadata": {
        "id": "bKEO9_fSTmh8"
      }
    },
    {
      "cell_type": "code",
      "source": [
        "def calcular_distancia(cid1, cid2):\n",
        "  dist = distance.distance([cid1.latitude, cid1.longitude],[cid2.latitude, cid2.longitude]).km;\n",
        "  return dist;"
      ],
      "metadata": {
        "id": "X_E-TjLETvyE"
      },
      "execution_count": null,
      "outputs": []
    },
    {
      "cell_type": "markdown",
      "source": [
        "Distância entre cidade 1 e 2"
      ],
      "metadata": {
        "id": "OvLVT62-TqOT"
      }
    },
    {
      "cell_type": "code",
      "source": [
        "def fazer_rota(cid1, cid2, dist):\n",
        "    map = fazer_mapa();\n",
        "    fl.PolyLine([[cid1.latitude, cid1.longitude],[cid2.latitude, cid2.longitude]], popup=f'Distância: {dist:.2f}Km').add_to(map);\n",
        "    return map;"
      ],
      "metadata": {
        "id": "9GYNbGlzeC3D"
      },
      "execution_count": null,
      "outputs": []
    },
    {
      "cell_type": "code",
      "source": [
        "dist1 = calcular_distancia(cidade1, cidade2);\n",
        "print(f'Distância entre {ncidade1} e {ncidade2} é de {dist1:.2f}Km\\n')"
      ],
      "metadata": {
        "colab": {
          "base_uri": "https://localhost:8080/"
        },
        "id": "LJjpPuzqWtbK",
        "outputId": "a7f01e5d-cbe5-4ebd-d1a4-4dcc66e24a9c"
      },
      "execution_count": null,
      "outputs": [
        {
          "output_type": "stream",
          "name": "stdout",
          "text": [
            "Distância entre Manaus e Presidente Figueiredo é de 119.84Km\n",
            "\n"
          ]
        }
      ]
    },
    {
      "cell_type": "code",
      "source": [
        "mapa1 = fazer_rota(cidade1, cidade2, dist1);\n",
        "mapa1"
      ],
      "metadata": {
        "colab": {
          "base_uri": "https://localhost:8080/",
          "height": 578
        },
        "id": "jquZDqbgfIPA",
        "outputId": "31570199-5a58-48db-d428-d0cb02a2890a"
      },
      "execution_count": null,
      "outputs": [
        {
          "output_type": "execute_result",
          "data": {
            "text/plain": [
              "<folium.folium.Map at 0x7f4cd28cf190>"
            ],
            "text/html": [
              "<div style=\"width:100%;\"><div style=\"position:relative;width:100%;height:0;padding-bottom:60%;\"><span style=\"color:#565656\">Make this Notebook Trusted to load map: File -> Trust Notebook</span><iframe srcdoc=\"&lt;!DOCTYPE html&gt;\n",
              "&lt;head&gt;    \n",
              "    &lt;meta http-equiv=&quot;content-type&quot; content=&quot;text/html; charset=UTF-8&quot; /&gt;\n",
              "    &lt;script&gt;L_PREFER_CANVAS=false; L_NO_TOUCH=false; L_DISABLE_3D=false;&lt;/script&gt;\n",
              "    &lt;script src=&quot;https://cdn.jsdelivr.net/npm/leaflet@1.4.0/dist/leaflet.js&quot;&gt;&lt;/script&gt;\n",
              "    &lt;script src=&quot;https://code.jquery.com/jquery-1.12.4.min.js&quot;&gt;&lt;/script&gt;\n",
              "    &lt;script src=&quot;https://maxcdn.bootstrapcdn.com/bootstrap/3.2.0/js/bootstrap.min.js&quot;&gt;&lt;/script&gt;\n",
              "    &lt;script src=&quot;https://cdnjs.cloudflare.com/ajax/libs/Leaflet.awesome-markers/2.0.2/leaflet.awesome-markers.js&quot;&gt;&lt;/script&gt;\n",
              "    &lt;link rel=&quot;stylesheet&quot; href=&quot;https://cdn.jsdelivr.net/npm/leaflet@1.4.0/dist/leaflet.css&quot;/&gt;\n",
              "    &lt;link rel=&quot;stylesheet&quot; href=&quot;https://maxcdn.bootstrapcdn.com/bootstrap/3.2.0/css/bootstrap.min.css&quot;/&gt;\n",
              "    &lt;link rel=&quot;stylesheet&quot; href=&quot;https://maxcdn.bootstrapcdn.com/bootstrap/3.2.0/css/bootstrap-theme.min.css&quot;/&gt;\n",
              "    &lt;link rel=&quot;stylesheet&quot; href=&quot;https://maxcdn.bootstrapcdn.com/font-awesome/4.6.3/css/font-awesome.min.css&quot;/&gt;\n",
              "    &lt;link rel=&quot;stylesheet&quot; href=&quot;https://cdnjs.cloudflare.com/ajax/libs/Leaflet.awesome-markers/2.0.2/leaflet.awesome-markers.css&quot;/&gt;\n",
              "    &lt;link rel=&quot;stylesheet&quot; href=&quot;https://rawcdn.githack.com/python-visualization/folium/master/folium/templates/leaflet.awesome.rotate.css&quot;/&gt;\n",
              "    &lt;style&gt;html, body {width: 100%;height: 100%;margin: 0;padding: 0;}&lt;/style&gt;\n",
              "    &lt;style&gt;#map {position:absolute;top:0;bottom:0;right:0;left:0;}&lt;/style&gt;\n",
              "    \n",
              "    &lt;meta name=&quot;viewport&quot; content=&quot;width=device-width,\n",
              "        initial-scale=1.0, maximum-scale=1.0, user-scalable=no&quot; /&gt;\n",
              "    &lt;style&gt;#map_eab36bf8b1363c0d44fb178fc7bb703d {\n",
              "        position: relative;\n",
              "        width: 100.0%;\n",
              "        height: 100.0%;\n",
              "        left: 0.0%;\n",
              "        top: 0.0%;\n",
              "        }\n",
              "    &lt;/style&gt;\n",
              "&lt;/head&gt;\n",
              "&lt;body&gt;    \n",
              "    \n",
              "    &lt;div class=&quot;folium-map&quot; id=&quot;map_eab36bf8b1363c0d44fb178fc7bb703d&quot; &gt;&lt;/div&gt;\n",
              "&lt;/body&gt;\n",
              "&lt;script&gt;    \n",
              "    \n",
              "    \n",
              "        var bounds = null;\n",
              "    \n",
              "\n",
              "    var map_eab36bf8b1363c0d44fb178fc7bb703d = L.map(\n",
              "        &#x27;map_eab36bf8b1363c0d44fb178fc7bb703d&#x27;, {\n",
              "        center: [-4.479925, -63.5185396],\n",
              "        zoom: 6,\n",
              "        maxBounds: bounds,\n",
              "        layers: [],\n",
              "        worldCopyJump: false,\n",
              "        crs: L.CRS.EPSG3857,\n",
              "        zoomControl: true,\n",
              "        });\n",
              "\n",
              "\n",
              "    \n",
              "    var tile_layer_764d561bcbead9c8c8c795b9466214ec = L.tileLayer(\n",
              "        &#x27;https://{s}.tile.openstreetmap.org/{z}/{x}/{y}.png&#x27;,\n",
              "        {\n",
              "        &quot;attribution&quot;: null,\n",
              "        &quot;detectRetina&quot;: false,\n",
              "        &quot;maxNativeZoom&quot;: 18,\n",
              "        &quot;maxZoom&quot;: 18,\n",
              "        &quot;minZoom&quot;: 0,\n",
              "        &quot;noWrap&quot;: false,\n",
              "        &quot;opacity&quot;: 1,\n",
              "        &quot;subdomains&quot;: &quot;abc&quot;,\n",
              "        &quot;tms&quot;: false\n",
              "}).addTo(map_eab36bf8b1363c0d44fb178fc7bb703d);\n",
              "    \n",
              "        var marker_0b50712d2bdbec594b9062d94a93803d = L.marker(\n",
              "            [-3.1316333, -59.9825041],\n",
              "            {\n",
              "                icon: new L.Icon.Default(),\n",
              "                }\n",
              "            ).addTo(map_eab36bf8b1363c0d44fb178fc7bb703d);\n",
              "        \n",
              "    \n",
              "            var popup_1de3cd961ef899629ba6fcc682c9a3f1 = L.popup({maxWidth: &#x27;100%&#x27;\n",
              "            \n",
              "            });\n",
              "\n",
              "            \n",
              "                var html_fe76b8a905102dc42e2aed99cd81840d = $(`&lt;div id=&quot;html_fe76b8a905102dc42e2aed99cd81840d&quot; style=&quot;width: 100.0%; height: 100.0%;&quot;&gt;Cidade 1, Manaus&lt;/div&gt;`)[0];\n",
              "                popup_1de3cd961ef899629ba6fcc682c9a3f1.setContent(html_fe76b8a905102dc42e2aed99cd81840d);\n",
              "            \n",
              "\n",
              "            marker_0b50712d2bdbec594b9062d94a93803d.bindPopup(popup_1de3cd961ef899629ba6fcc682c9a3f1)\n",
              "            ;\n",
              "\n",
              "            \n",
              "        \n",
              "    \n",
              "        var marker_de30ace4c7e2c840993b959d60d0ff17 = L.marker(\n",
              "            [-2.0486359, -60.0236658],\n",
              "            {\n",
              "                icon: new L.Icon.Default(),\n",
              "                }\n",
              "            ).addTo(map_eab36bf8b1363c0d44fb178fc7bb703d);\n",
              "        \n",
              "    \n",
              "            var popup_5fdb5d64e69b526996decd9f447f347d = L.popup({maxWidth: &#x27;100%&#x27;\n",
              "            \n",
              "            });\n",
              "\n",
              "            \n",
              "                var html_6242a3fff9aaf8c723224df52fee5172 = $(`&lt;div id=&quot;html_6242a3fff9aaf8c723224df52fee5172&quot; style=&quot;width: 100.0%; height: 100.0%;&quot;&gt;Cidade 2, Presidente Figueiredo&lt;/div&gt;`)[0];\n",
              "                popup_5fdb5d64e69b526996decd9f447f347d.setContent(html_6242a3fff9aaf8c723224df52fee5172);\n",
              "            \n",
              "\n",
              "            marker_de30ace4c7e2c840993b959d60d0ff17.bindPopup(popup_5fdb5d64e69b526996decd9f447f347d)\n",
              "            ;\n",
              "\n",
              "            \n",
              "        \n",
              "    \n",
              "        var marker_32dde2386eab7969e4c51f12a55e66f6 = L.marker(\n",
              "            [-3.1477898, -58.4461041],\n",
              "            {\n",
              "                icon: new L.Icon.Default(),\n",
              "                }\n",
              "            ).addTo(map_eab36bf8b1363c0d44fb178fc7bb703d);\n",
              "        \n",
              "    \n",
              "            var popup_c22b0b7203ef589e11f0ba12bfc47150 = L.popup({maxWidth: &#x27;100%&#x27;\n",
              "            \n",
              "            });\n",
              "\n",
              "            \n",
              "                var html_6f13a011e3fdcef18df3bbef467612ba = $(`&lt;div id=&quot;html_6f13a011e3fdcef18df3bbef467612ba&quot; style=&quot;width: 100.0%; height: 100.0%;&quot;&gt;Cidade 3, Itacoatiara&lt;/div&gt;`)[0];\n",
              "                popup_c22b0b7203ef589e11f0ba12bfc47150.setContent(html_6f13a011e3fdcef18df3bbef467612ba);\n",
              "            \n",
              "\n",
              "            marker_32dde2386eab7969e4c51f12a55e66f6.bindPopup(popup_c22b0b7203ef589e11f0ba12bfc47150)\n",
              "            ;\n",
              "\n",
              "            \n",
              "        \n",
              "    \n",
              "                var poly_line_2f972b44f2599ecb4aa2573e4cab5bcf = L.polyline(\n",
              "                    [[-3.1316333, -59.9825041], [-2.0486359, -60.0236658]],\n",
              "                    {\n",
              "  &quot;bubblingMouseEvents&quot;: true,\n",
              "  &quot;color&quot;: &quot;#3388ff&quot;,\n",
              "  &quot;dashArray&quot;: null,\n",
              "  &quot;dashOffset&quot;: null,\n",
              "  &quot;fill&quot;: false,\n",
              "  &quot;fillColor&quot;: &quot;#3388ff&quot;,\n",
              "  &quot;fillOpacity&quot;: 0.2,\n",
              "  &quot;fillRule&quot;: &quot;evenodd&quot;,\n",
              "  &quot;lineCap&quot;: &quot;round&quot;,\n",
              "  &quot;lineJoin&quot;: &quot;round&quot;,\n",
              "  &quot;noClip&quot;: false,\n",
              "  &quot;opacity&quot;: 1.0,\n",
              "  &quot;smoothFactor&quot;: 1.0,\n",
              "  &quot;stroke&quot;: true,\n",
              "  &quot;weight&quot;: 3\n",
              "}\n",
              "                    )\n",
              "                    .addTo(map_eab36bf8b1363c0d44fb178fc7bb703d);\n",
              "            \n",
              "    \n",
              "            var popup_887382a816f18de1a667619afe1926e1 = L.popup({maxWidth: &#x27;100%&#x27;\n",
              "            \n",
              "            });\n",
              "\n",
              "            \n",
              "                var html_b63f9e73f074abda5d7075e52d653c9c = $(`&lt;div id=&quot;html_b63f9e73f074abda5d7075e52d653c9c&quot; style=&quot;width: 100.0%; height: 100.0%;&quot;&gt;Distância: 119.84Km&lt;/div&gt;`)[0];\n",
              "                popup_887382a816f18de1a667619afe1926e1.setContent(html_b63f9e73f074abda5d7075e52d653c9c);\n",
              "            \n",
              "\n",
              "            poly_line_2f972b44f2599ecb4aa2573e4cab5bcf.bindPopup(popup_887382a816f18de1a667619afe1926e1)\n",
              "            ;\n",
              "\n",
              "            \n",
              "        \n",
              "&lt;/script&gt;\" style=\"position:absolute;width:100%;height:100%;left:0;top:0;border:none !important;\" allowfullscreen webkitallowfullscreen mozallowfullscreen></iframe></div></div>"
            ]
          },
          "metadata": {},
          "execution_count": 11
        }
      ]
    },
    {
      "cell_type": "markdown",
      "source": [
        "Distância entre cidade 2 e 3"
      ],
      "metadata": {
        "id": "Z4tUjKMvWDS5"
      }
    },
    {
      "cell_type": "code",
      "source": [
        "dist2 = calcular_distancia(cidade2, cidade3);\n",
        "print(f'Distância entre {ncidade2} e {ncidade3} é de {dist2:.2f}Km\\n')"
      ],
      "metadata": {
        "colab": {
          "base_uri": "https://localhost:8080/"
        },
        "outputId": "aa8fdff4-7161-48a9-df85-74a012e22e07",
        "id": "fvATqGZFWH5A"
      },
      "execution_count": null,
      "outputs": [
        {
          "output_type": "stream",
          "name": "stdout",
          "text": [
            "Distância entre Presidente Figueiredo e Itacoatiara é de 213.42Km\n",
            "\n"
          ]
        }
      ]
    },
    {
      "cell_type": "code",
      "source": [
        "mapa2 = fazer_rota(cidade2, cidade3, dist2);\n",
        "mapa2"
      ],
      "metadata": {
        "colab": {
          "base_uri": "https://localhost:8080/",
          "height": 578
        },
        "id": "oUoeHtKZgZlP",
        "outputId": "f618a2a6-c5d1-43a8-c5b2-585a9b511554"
      },
      "execution_count": null,
      "outputs": [
        {
          "output_type": "execute_result",
          "data": {
            "text/plain": [
              "<folium.folium.Map at 0x7f4cd28d4d10>"
            ],
            "text/html": [
              "<div style=\"width:100%;\"><div style=\"position:relative;width:100%;height:0;padding-bottom:60%;\"><span style=\"color:#565656\">Make this Notebook Trusted to load map: File -> Trust Notebook</span><iframe srcdoc=\"&lt;!DOCTYPE html&gt;\n",
              "&lt;head&gt;    \n",
              "    &lt;meta http-equiv=&quot;content-type&quot; content=&quot;text/html; charset=UTF-8&quot; /&gt;\n",
              "    &lt;script&gt;L_PREFER_CANVAS=false; L_NO_TOUCH=false; L_DISABLE_3D=false;&lt;/script&gt;\n",
              "    &lt;script src=&quot;https://cdn.jsdelivr.net/npm/leaflet@1.4.0/dist/leaflet.js&quot;&gt;&lt;/script&gt;\n",
              "    &lt;script src=&quot;https://code.jquery.com/jquery-1.12.4.min.js&quot;&gt;&lt;/script&gt;\n",
              "    &lt;script src=&quot;https://maxcdn.bootstrapcdn.com/bootstrap/3.2.0/js/bootstrap.min.js&quot;&gt;&lt;/script&gt;\n",
              "    &lt;script src=&quot;https://cdnjs.cloudflare.com/ajax/libs/Leaflet.awesome-markers/2.0.2/leaflet.awesome-markers.js&quot;&gt;&lt;/script&gt;\n",
              "    &lt;link rel=&quot;stylesheet&quot; href=&quot;https://cdn.jsdelivr.net/npm/leaflet@1.4.0/dist/leaflet.css&quot;/&gt;\n",
              "    &lt;link rel=&quot;stylesheet&quot; href=&quot;https://maxcdn.bootstrapcdn.com/bootstrap/3.2.0/css/bootstrap.min.css&quot;/&gt;\n",
              "    &lt;link rel=&quot;stylesheet&quot; href=&quot;https://maxcdn.bootstrapcdn.com/bootstrap/3.2.0/css/bootstrap-theme.min.css&quot;/&gt;\n",
              "    &lt;link rel=&quot;stylesheet&quot; href=&quot;https://maxcdn.bootstrapcdn.com/font-awesome/4.6.3/css/font-awesome.min.css&quot;/&gt;\n",
              "    &lt;link rel=&quot;stylesheet&quot; href=&quot;https://cdnjs.cloudflare.com/ajax/libs/Leaflet.awesome-markers/2.0.2/leaflet.awesome-markers.css&quot;/&gt;\n",
              "    &lt;link rel=&quot;stylesheet&quot; href=&quot;https://rawcdn.githack.com/python-visualization/folium/master/folium/templates/leaflet.awesome.rotate.css&quot;/&gt;\n",
              "    &lt;style&gt;html, body {width: 100%;height: 100%;margin: 0;padding: 0;}&lt;/style&gt;\n",
              "    &lt;style&gt;#map {position:absolute;top:0;bottom:0;right:0;left:0;}&lt;/style&gt;\n",
              "    \n",
              "    &lt;meta name=&quot;viewport&quot; content=&quot;width=device-width,\n",
              "        initial-scale=1.0, maximum-scale=1.0, user-scalable=no&quot; /&gt;\n",
              "    &lt;style&gt;#map_b73a43ffda8d8cfc47048ab0c20c4e1a {\n",
              "        position: relative;\n",
              "        width: 100.0%;\n",
              "        height: 100.0%;\n",
              "        left: 0.0%;\n",
              "        top: 0.0%;\n",
              "        }\n",
              "    &lt;/style&gt;\n",
              "&lt;/head&gt;\n",
              "&lt;body&gt;    \n",
              "    \n",
              "    &lt;div class=&quot;folium-map&quot; id=&quot;map_b73a43ffda8d8cfc47048ab0c20c4e1a&quot; &gt;&lt;/div&gt;\n",
              "&lt;/body&gt;\n",
              "&lt;script&gt;    \n",
              "    \n",
              "    \n",
              "        var bounds = null;\n",
              "    \n",
              "\n",
              "    var map_b73a43ffda8d8cfc47048ab0c20c4e1a = L.map(\n",
              "        &#x27;map_b73a43ffda8d8cfc47048ab0c20c4e1a&#x27;, {\n",
              "        center: [-4.479925, -63.5185396],\n",
              "        zoom: 6,\n",
              "        maxBounds: bounds,\n",
              "        layers: [],\n",
              "        worldCopyJump: false,\n",
              "        crs: L.CRS.EPSG3857,\n",
              "        zoomControl: true,\n",
              "        });\n",
              "\n",
              "\n",
              "    \n",
              "    var tile_layer_b90e76028af6fdd048d80c4792ef9024 = L.tileLayer(\n",
              "        &#x27;https://{s}.tile.openstreetmap.org/{z}/{x}/{y}.png&#x27;,\n",
              "        {\n",
              "        &quot;attribution&quot;: null,\n",
              "        &quot;detectRetina&quot;: false,\n",
              "        &quot;maxNativeZoom&quot;: 18,\n",
              "        &quot;maxZoom&quot;: 18,\n",
              "        &quot;minZoom&quot;: 0,\n",
              "        &quot;noWrap&quot;: false,\n",
              "        &quot;opacity&quot;: 1,\n",
              "        &quot;subdomains&quot;: &quot;abc&quot;,\n",
              "        &quot;tms&quot;: false\n",
              "}).addTo(map_b73a43ffda8d8cfc47048ab0c20c4e1a);\n",
              "    \n",
              "        var marker_36d31e6dc0fa852099780edd17255dd0 = L.marker(\n",
              "            [-3.1316333, -59.9825041],\n",
              "            {\n",
              "                icon: new L.Icon.Default(),\n",
              "                }\n",
              "            ).addTo(map_b73a43ffda8d8cfc47048ab0c20c4e1a);\n",
              "        \n",
              "    \n",
              "            var popup_ad7142e0b2ac8cf7aeedd37c78b172c8 = L.popup({maxWidth: &#x27;100%&#x27;\n",
              "            \n",
              "            });\n",
              "\n",
              "            \n",
              "                var html_de2e6e2aa1ab9f892004660177396477 = $(`&lt;div id=&quot;html_de2e6e2aa1ab9f892004660177396477&quot; style=&quot;width: 100.0%; height: 100.0%;&quot;&gt;Cidade 1, Manaus&lt;/div&gt;`)[0];\n",
              "                popup_ad7142e0b2ac8cf7aeedd37c78b172c8.setContent(html_de2e6e2aa1ab9f892004660177396477);\n",
              "            \n",
              "\n",
              "            marker_36d31e6dc0fa852099780edd17255dd0.bindPopup(popup_ad7142e0b2ac8cf7aeedd37c78b172c8)\n",
              "            ;\n",
              "\n",
              "            \n",
              "        \n",
              "    \n",
              "        var marker_c25fab786e86e0f176d9ecf1a86491aa = L.marker(\n",
              "            [-2.0486359, -60.0236658],\n",
              "            {\n",
              "                icon: new L.Icon.Default(),\n",
              "                }\n",
              "            ).addTo(map_b73a43ffda8d8cfc47048ab0c20c4e1a);\n",
              "        \n",
              "    \n",
              "            var popup_2277ee4ed49f94c36dca837001d1b02d = L.popup({maxWidth: &#x27;100%&#x27;\n",
              "            \n",
              "            });\n",
              "\n",
              "            \n",
              "                var html_6e372a7db23717a1c57c29623b3f8cbf = $(`&lt;div id=&quot;html_6e372a7db23717a1c57c29623b3f8cbf&quot; style=&quot;width: 100.0%; height: 100.0%;&quot;&gt;Cidade 2, Presidente Figueiredo&lt;/div&gt;`)[0];\n",
              "                popup_2277ee4ed49f94c36dca837001d1b02d.setContent(html_6e372a7db23717a1c57c29623b3f8cbf);\n",
              "            \n",
              "\n",
              "            marker_c25fab786e86e0f176d9ecf1a86491aa.bindPopup(popup_2277ee4ed49f94c36dca837001d1b02d)\n",
              "            ;\n",
              "\n",
              "            \n",
              "        \n",
              "    \n",
              "        var marker_5d0b8e835d86a624d3e5f1ebe9e7a2aa = L.marker(\n",
              "            [-3.1477898, -58.4461041],\n",
              "            {\n",
              "                icon: new L.Icon.Default(),\n",
              "                }\n",
              "            ).addTo(map_b73a43ffda8d8cfc47048ab0c20c4e1a);\n",
              "        \n",
              "    \n",
              "            var popup_f7994f2dd0fedf19f7af3ac52078e726 = L.popup({maxWidth: &#x27;100%&#x27;\n",
              "            \n",
              "            });\n",
              "\n",
              "            \n",
              "                var html_00943e5a84a70499b07ffadfd35a616e = $(`&lt;div id=&quot;html_00943e5a84a70499b07ffadfd35a616e&quot; style=&quot;width: 100.0%; height: 100.0%;&quot;&gt;Cidade 3, Itacoatiara&lt;/div&gt;`)[0];\n",
              "                popup_f7994f2dd0fedf19f7af3ac52078e726.setContent(html_00943e5a84a70499b07ffadfd35a616e);\n",
              "            \n",
              "\n",
              "            marker_5d0b8e835d86a624d3e5f1ebe9e7a2aa.bindPopup(popup_f7994f2dd0fedf19f7af3ac52078e726)\n",
              "            ;\n",
              "\n",
              "            \n",
              "        \n",
              "    \n",
              "                var poly_line_9c157444c5569262a4ddbb7d9847c6c8 = L.polyline(\n",
              "                    [[-2.0486359, -60.0236658], [-3.1477898, -58.4461041]],\n",
              "                    {\n",
              "  &quot;bubblingMouseEvents&quot;: true,\n",
              "  &quot;color&quot;: &quot;#3388ff&quot;,\n",
              "  &quot;dashArray&quot;: null,\n",
              "  &quot;dashOffset&quot;: null,\n",
              "  &quot;fill&quot;: false,\n",
              "  &quot;fillColor&quot;: &quot;#3388ff&quot;,\n",
              "  &quot;fillOpacity&quot;: 0.2,\n",
              "  &quot;fillRule&quot;: &quot;evenodd&quot;,\n",
              "  &quot;lineCap&quot;: &quot;round&quot;,\n",
              "  &quot;lineJoin&quot;: &quot;round&quot;,\n",
              "  &quot;noClip&quot;: false,\n",
              "  &quot;opacity&quot;: 1.0,\n",
              "  &quot;smoothFactor&quot;: 1.0,\n",
              "  &quot;stroke&quot;: true,\n",
              "  &quot;weight&quot;: 3\n",
              "}\n",
              "                    )\n",
              "                    .addTo(map_b73a43ffda8d8cfc47048ab0c20c4e1a);\n",
              "            \n",
              "    \n",
              "            var popup_2eeea0973bbc2fe64640396ec81f5c44 = L.popup({maxWidth: &#x27;100%&#x27;\n",
              "            \n",
              "            });\n",
              "\n",
              "            \n",
              "                var html_ebe29a5ac5f07442b5bbdda7e0cb596d = $(`&lt;div id=&quot;html_ebe29a5ac5f07442b5bbdda7e0cb596d&quot; style=&quot;width: 100.0%; height: 100.0%;&quot;&gt;Distância: 213.42Km&lt;/div&gt;`)[0];\n",
              "                popup_2eeea0973bbc2fe64640396ec81f5c44.setContent(html_ebe29a5ac5f07442b5bbdda7e0cb596d);\n",
              "            \n",
              "\n",
              "            poly_line_9c157444c5569262a4ddbb7d9847c6c8.bindPopup(popup_2eeea0973bbc2fe64640396ec81f5c44)\n",
              "            ;\n",
              "\n",
              "            \n",
              "        \n",
              "&lt;/script&gt;\" style=\"position:absolute;width:100%;height:100%;left:0;top:0;border:none !important;\" allowfullscreen webkitallowfullscreen mozallowfullscreen></iframe></div></div>"
            ]
          },
          "metadata": {},
          "execution_count": 13
        }
      ]
    },
    {
      "cell_type": "markdown",
      "source": [
        "Distância entre cidade 1 e 3"
      ],
      "metadata": {
        "id": "uOA507WiWDvK"
      }
    },
    {
      "cell_type": "code",
      "source": [
        "dist3 = calcular_distancia(cidade1, cidade3);\n",
        "print(f'Distância entre {ncidade1} e {ncidade3} é de {dist3:.2f}Km\\n')"
      ],
      "metadata": {
        "colab": {
          "base_uri": "https://localhost:8080/"
        },
        "outputId": "77a66da0-1161-4e2a-bf8d-1ce409356506",
        "id": "hELaE9ItWINi"
      },
      "execution_count": null,
      "outputs": [
        {
          "output_type": "stream",
          "name": "stdout",
          "text": [
            "Distância entre Manaus e Itacoatiara é de 170.79Km\n",
            "\n"
          ]
        }
      ]
    },
    {
      "cell_type": "code",
      "source": [
        "mapa3 = fazer_rota(cidade1, cidade3, dist3);\n",
        "mapa3"
      ],
      "metadata": {
        "colab": {
          "base_uri": "https://localhost:8080/",
          "height": 578
        },
        "outputId": "de4adce0-f983-4d92-db31-2ac37e5635d0",
        "id": "WG8Atj67ubMo"
      },
      "execution_count": null,
      "outputs": [
        {
          "output_type": "execute_result",
          "data": {
            "text/plain": [
              "<folium.folium.Map at 0x7f4cd2d68550>"
            ],
            "text/html": [
              "<div style=\"width:100%;\"><div style=\"position:relative;width:100%;height:0;padding-bottom:60%;\"><span style=\"color:#565656\">Make this Notebook Trusted to load map: File -> Trust Notebook</span><iframe srcdoc=\"&lt;!DOCTYPE html&gt;\n",
              "&lt;head&gt;    \n",
              "    &lt;meta http-equiv=&quot;content-type&quot; content=&quot;text/html; charset=UTF-8&quot; /&gt;\n",
              "    &lt;script&gt;L_PREFER_CANVAS=false; L_NO_TOUCH=false; L_DISABLE_3D=false;&lt;/script&gt;\n",
              "    &lt;script src=&quot;https://cdn.jsdelivr.net/npm/leaflet@1.4.0/dist/leaflet.js&quot;&gt;&lt;/script&gt;\n",
              "    &lt;script src=&quot;https://code.jquery.com/jquery-1.12.4.min.js&quot;&gt;&lt;/script&gt;\n",
              "    &lt;script src=&quot;https://maxcdn.bootstrapcdn.com/bootstrap/3.2.0/js/bootstrap.min.js&quot;&gt;&lt;/script&gt;\n",
              "    &lt;script src=&quot;https://cdnjs.cloudflare.com/ajax/libs/Leaflet.awesome-markers/2.0.2/leaflet.awesome-markers.js&quot;&gt;&lt;/script&gt;\n",
              "    &lt;link rel=&quot;stylesheet&quot; href=&quot;https://cdn.jsdelivr.net/npm/leaflet@1.4.0/dist/leaflet.css&quot;/&gt;\n",
              "    &lt;link rel=&quot;stylesheet&quot; href=&quot;https://maxcdn.bootstrapcdn.com/bootstrap/3.2.0/css/bootstrap.min.css&quot;/&gt;\n",
              "    &lt;link rel=&quot;stylesheet&quot; href=&quot;https://maxcdn.bootstrapcdn.com/bootstrap/3.2.0/css/bootstrap-theme.min.css&quot;/&gt;\n",
              "    &lt;link rel=&quot;stylesheet&quot; href=&quot;https://maxcdn.bootstrapcdn.com/font-awesome/4.6.3/css/font-awesome.min.css&quot;/&gt;\n",
              "    &lt;link rel=&quot;stylesheet&quot; href=&quot;https://cdnjs.cloudflare.com/ajax/libs/Leaflet.awesome-markers/2.0.2/leaflet.awesome-markers.css&quot;/&gt;\n",
              "    &lt;link rel=&quot;stylesheet&quot; href=&quot;https://rawcdn.githack.com/python-visualization/folium/master/folium/templates/leaflet.awesome.rotate.css&quot;/&gt;\n",
              "    &lt;style&gt;html, body {width: 100%;height: 100%;margin: 0;padding: 0;}&lt;/style&gt;\n",
              "    &lt;style&gt;#map {position:absolute;top:0;bottom:0;right:0;left:0;}&lt;/style&gt;\n",
              "    \n",
              "    &lt;meta name=&quot;viewport&quot; content=&quot;width=device-width,\n",
              "        initial-scale=1.0, maximum-scale=1.0, user-scalable=no&quot; /&gt;\n",
              "    &lt;style&gt;#map_d73988bc488ee78a45f80e9dedae051a {\n",
              "        position: relative;\n",
              "        width: 100.0%;\n",
              "        height: 100.0%;\n",
              "        left: 0.0%;\n",
              "        top: 0.0%;\n",
              "        }\n",
              "    &lt;/style&gt;\n",
              "&lt;/head&gt;\n",
              "&lt;body&gt;    \n",
              "    \n",
              "    &lt;div class=&quot;folium-map&quot; id=&quot;map_d73988bc488ee78a45f80e9dedae051a&quot; &gt;&lt;/div&gt;\n",
              "&lt;/body&gt;\n",
              "&lt;script&gt;    \n",
              "    \n",
              "    \n",
              "        var bounds = null;\n",
              "    \n",
              "\n",
              "    var map_d73988bc488ee78a45f80e9dedae051a = L.map(\n",
              "        &#x27;map_d73988bc488ee78a45f80e9dedae051a&#x27;, {\n",
              "        center: [-4.479925, -63.5185396],\n",
              "        zoom: 6,\n",
              "        maxBounds: bounds,\n",
              "        layers: [],\n",
              "        worldCopyJump: false,\n",
              "        crs: L.CRS.EPSG3857,\n",
              "        zoomControl: true,\n",
              "        });\n",
              "\n",
              "\n",
              "    \n",
              "    var tile_layer_e2ac9f8455490a5fdbdffa8a26856114 = L.tileLayer(\n",
              "        &#x27;https://{s}.tile.openstreetmap.org/{z}/{x}/{y}.png&#x27;,\n",
              "        {\n",
              "        &quot;attribution&quot;: null,\n",
              "        &quot;detectRetina&quot;: false,\n",
              "        &quot;maxNativeZoom&quot;: 18,\n",
              "        &quot;maxZoom&quot;: 18,\n",
              "        &quot;minZoom&quot;: 0,\n",
              "        &quot;noWrap&quot;: false,\n",
              "        &quot;opacity&quot;: 1,\n",
              "        &quot;subdomains&quot;: &quot;abc&quot;,\n",
              "        &quot;tms&quot;: false\n",
              "}).addTo(map_d73988bc488ee78a45f80e9dedae051a);\n",
              "    \n",
              "        var marker_cd4ee3ec472124ba1a8e4fdb264c933a = L.marker(\n",
              "            [-3.1316333, -59.9825041],\n",
              "            {\n",
              "                icon: new L.Icon.Default(),\n",
              "                }\n",
              "            ).addTo(map_d73988bc488ee78a45f80e9dedae051a);\n",
              "        \n",
              "    \n",
              "            var popup_a9ef9300e76198ad72dfd29b1c5f3826 = L.popup({maxWidth: &#x27;100%&#x27;\n",
              "            \n",
              "            });\n",
              "\n",
              "            \n",
              "                var html_c5c3f61aeecbe9cd2056ca87503fc594 = $(`&lt;div id=&quot;html_c5c3f61aeecbe9cd2056ca87503fc594&quot; style=&quot;width: 100.0%; height: 100.0%;&quot;&gt;Cidade 1, Manaus&lt;/div&gt;`)[0];\n",
              "                popup_a9ef9300e76198ad72dfd29b1c5f3826.setContent(html_c5c3f61aeecbe9cd2056ca87503fc594);\n",
              "            \n",
              "\n",
              "            marker_cd4ee3ec472124ba1a8e4fdb264c933a.bindPopup(popup_a9ef9300e76198ad72dfd29b1c5f3826)\n",
              "            ;\n",
              "\n",
              "            \n",
              "        \n",
              "    \n",
              "        var marker_162b773a282f15168d3403bd05254917 = L.marker(\n",
              "            [-2.0486359, -60.0236658],\n",
              "            {\n",
              "                icon: new L.Icon.Default(),\n",
              "                }\n",
              "            ).addTo(map_d73988bc488ee78a45f80e9dedae051a);\n",
              "        \n",
              "    \n",
              "            var popup_13d156d8cc38dd2d5e14999a56d6dd0b = L.popup({maxWidth: &#x27;100%&#x27;\n",
              "            \n",
              "            });\n",
              "\n",
              "            \n",
              "                var html_83a47421e3555de86e7dac82df9e2029 = $(`&lt;div id=&quot;html_83a47421e3555de86e7dac82df9e2029&quot; style=&quot;width: 100.0%; height: 100.0%;&quot;&gt;Cidade 2, Presidente Figueiredo&lt;/div&gt;`)[0];\n",
              "                popup_13d156d8cc38dd2d5e14999a56d6dd0b.setContent(html_83a47421e3555de86e7dac82df9e2029);\n",
              "            \n",
              "\n",
              "            marker_162b773a282f15168d3403bd05254917.bindPopup(popup_13d156d8cc38dd2d5e14999a56d6dd0b)\n",
              "            ;\n",
              "\n",
              "            \n",
              "        \n",
              "    \n",
              "        var marker_eecc33f12991a9aa333b7f3615ac5941 = L.marker(\n",
              "            [-3.1477898, -58.4461041],\n",
              "            {\n",
              "                icon: new L.Icon.Default(),\n",
              "                }\n",
              "            ).addTo(map_d73988bc488ee78a45f80e9dedae051a);\n",
              "        \n",
              "    \n",
              "            var popup_680e584b6b5ce6492f7062329f52cde3 = L.popup({maxWidth: &#x27;100%&#x27;\n",
              "            \n",
              "            });\n",
              "\n",
              "            \n",
              "                var html_19d268a5ef86f39808cd206405090ee9 = $(`&lt;div id=&quot;html_19d268a5ef86f39808cd206405090ee9&quot; style=&quot;width: 100.0%; height: 100.0%;&quot;&gt;Cidade 3, Itacoatiara&lt;/div&gt;`)[0];\n",
              "                popup_680e584b6b5ce6492f7062329f52cde3.setContent(html_19d268a5ef86f39808cd206405090ee9);\n",
              "            \n",
              "\n",
              "            marker_eecc33f12991a9aa333b7f3615ac5941.bindPopup(popup_680e584b6b5ce6492f7062329f52cde3)\n",
              "            ;\n",
              "\n",
              "            \n",
              "        \n",
              "    \n",
              "                var poly_line_dadf6ab4d2b32f99be4581c2314609f8 = L.polyline(\n",
              "                    [[-3.1316333, -59.9825041], [-3.1477898, -58.4461041]],\n",
              "                    {\n",
              "  &quot;bubblingMouseEvents&quot;: true,\n",
              "  &quot;color&quot;: &quot;#3388ff&quot;,\n",
              "  &quot;dashArray&quot;: null,\n",
              "  &quot;dashOffset&quot;: null,\n",
              "  &quot;fill&quot;: false,\n",
              "  &quot;fillColor&quot;: &quot;#3388ff&quot;,\n",
              "  &quot;fillOpacity&quot;: 0.2,\n",
              "  &quot;fillRule&quot;: &quot;evenodd&quot;,\n",
              "  &quot;lineCap&quot;: &quot;round&quot;,\n",
              "  &quot;lineJoin&quot;: &quot;round&quot;,\n",
              "  &quot;noClip&quot;: false,\n",
              "  &quot;opacity&quot;: 1.0,\n",
              "  &quot;smoothFactor&quot;: 1.0,\n",
              "  &quot;stroke&quot;: true,\n",
              "  &quot;weight&quot;: 3\n",
              "}\n",
              "                    )\n",
              "                    .addTo(map_d73988bc488ee78a45f80e9dedae051a);\n",
              "            \n",
              "    \n",
              "            var popup_54e7e2ffa3f97d45a8a221e8b2675100 = L.popup({maxWidth: &#x27;100%&#x27;\n",
              "            \n",
              "            });\n",
              "\n",
              "            \n",
              "                var html_29f92e2550dfec7c04ef55ab743fe78c = $(`&lt;div id=&quot;html_29f92e2550dfec7c04ef55ab743fe78c&quot; style=&quot;width: 100.0%; height: 100.0%;&quot;&gt;Distância: 170.79Km&lt;/div&gt;`)[0];\n",
              "                popup_54e7e2ffa3f97d45a8a221e8b2675100.setContent(html_29f92e2550dfec7c04ef55ab743fe78c);\n",
              "            \n",
              "\n",
              "            poly_line_dadf6ab4d2b32f99be4581c2314609f8.bindPopup(popup_54e7e2ffa3f97d45a8a221e8b2675100)\n",
              "            ;\n",
              "\n",
              "            \n",
              "        \n",
              "&lt;/script&gt;\" style=\"position:absolute;width:100%;height:100%;left:0;top:0;border:none !important;\" allowfullscreen webkitallowfullscreen mozallowfullscreen></iframe></div></div>"
            ]
          },
          "metadata": {},
          "execution_count": 15
        }
      ]
    },
    {
      "cell_type": "markdown",
      "source": [
        "Triangulação da área"
      ],
      "metadata": {
        "id": "lTRFD6wxw8gi"
      }
    },
    {
      "cell_type": "code",
      "source": [
        "coordenada = [\n",
        "  (cidade1.latitude, cidade1.longitude),\n",
        "  (cidade2.latitude, cidade2.longitude),\n",
        "  (cidade3.latitude, cidade3.longitude),\n",
        "  (cidade1.latitude, cidade1.longitude)\n",
        "]\n",
        "mapa4 = fazer_mapa();\n",
        "fl.PolyLine(coordenada).add_to(mapa4);\n",
        "mapa4"
      ],
      "metadata": {
        "colab": {
          "base_uri": "https://localhost:8080/",
          "height": 578
        },
        "id": "JnnwhSvfvkLG",
        "outputId": "65ad1925-ab62-4854-9ac6-086e6001edaf"
      },
      "execution_count": null,
      "outputs": [
        {
          "output_type": "execute_result",
          "data": {
            "text/plain": [
              "<folium.folium.Map at 0x7f4cd28e7690>"
            ],
            "text/html": [
              "<div style=\"width:100%;\"><div style=\"position:relative;width:100%;height:0;padding-bottom:60%;\"><span style=\"color:#565656\">Make this Notebook Trusted to load map: File -> Trust Notebook</span><iframe srcdoc=\"&lt;!DOCTYPE html&gt;\n",
              "&lt;head&gt;    \n",
              "    &lt;meta http-equiv=&quot;content-type&quot; content=&quot;text/html; charset=UTF-8&quot; /&gt;\n",
              "    &lt;script&gt;L_PREFER_CANVAS=false; L_NO_TOUCH=false; L_DISABLE_3D=false;&lt;/script&gt;\n",
              "    &lt;script src=&quot;https://cdn.jsdelivr.net/npm/leaflet@1.4.0/dist/leaflet.js&quot;&gt;&lt;/script&gt;\n",
              "    &lt;script src=&quot;https://code.jquery.com/jquery-1.12.4.min.js&quot;&gt;&lt;/script&gt;\n",
              "    &lt;script src=&quot;https://maxcdn.bootstrapcdn.com/bootstrap/3.2.0/js/bootstrap.min.js&quot;&gt;&lt;/script&gt;\n",
              "    &lt;script src=&quot;https://cdnjs.cloudflare.com/ajax/libs/Leaflet.awesome-markers/2.0.2/leaflet.awesome-markers.js&quot;&gt;&lt;/script&gt;\n",
              "    &lt;link rel=&quot;stylesheet&quot; href=&quot;https://cdn.jsdelivr.net/npm/leaflet@1.4.0/dist/leaflet.css&quot;/&gt;\n",
              "    &lt;link rel=&quot;stylesheet&quot; href=&quot;https://maxcdn.bootstrapcdn.com/bootstrap/3.2.0/css/bootstrap.min.css&quot;/&gt;\n",
              "    &lt;link rel=&quot;stylesheet&quot; href=&quot;https://maxcdn.bootstrapcdn.com/bootstrap/3.2.0/css/bootstrap-theme.min.css&quot;/&gt;\n",
              "    &lt;link rel=&quot;stylesheet&quot; href=&quot;https://maxcdn.bootstrapcdn.com/font-awesome/4.6.3/css/font-awesome.min.css&quot;/&gt;\n",
              "    &lt;link rel=&quot;stylesheet&quot; href=&quot;https://cdnjs.cloudflare.com/ajax/libs/Leaflet.awesome-markers/2.0.2/leaflet.awesome-markers.css&quot;/&gt;\n",
              "    &lt;link rel=&quot;stylesheet&quot; href=&quot;https://rawcdn.githack.com/python-visualization/folium/master/folium/templates/leaflet.awesome.rotate.css&quot;/&gt;\n",
              "    &lt;style&gt;html, body {width: 100%;height: 100%;margin: 0;padding: 0;}&lt;/style&gt;\n",
              "    &lt;style&gt;#map {position:absolute;top:0;bottom:0;right:0;left:0;}&lt;/style&gt;\n",
              "    \n",
              "    &lt;meta name=&quot;viewport&quot; content=&quot;width=device-width,\n",
              "        initial-scale=1.0, maximum-scale=1.0, user-scalable=no&quot; /&gt;\n",
              "    &lt;style&gt;#map_7ff2ab144aab451af29ab9750e9b4f18 {\n",
              "        position: relative;\n",
              "        width: 100.0%;\n",
              "        height: 100.0%;\n",
              "        left: 0.0%;\n",
              "        top: 0.0%;\n",
              "        }\n",
              "    &lt;/style&gt;\n",
              "&lt;/head&gt;\n",
              "&lt;body&gt;    \n",
              "    \n",
              "    &lt;div class=&quot;folium-map&quot; id=&quot;map_7ff2ab144aab451af29ab9750e9b4f18&quot; &gt;&lt;/div&gt;\n",
              "&lt;/body&gt;\n",
              "&lt;script&gt;    \n",
              "    \n",
              "    \n",
              "        var bounds = null;\n",
              "    \n",
              "\n",
              "    var map_7ff2ab144aab451af29ab9750e9b4f18 = L.map(\n",
              "        &#x27;map_7ff2ab144aab451af29ab9750e9b4f18&#x27;, {\n",
              "        center: [-4.479925, -63.5185396],\n",
              "        zoom: 6,\n",
              "        maxBounds: bounds,\n",
              "        layers: [],\n",
              "        worldCopyJump: false,\n",
              "        crs: L.CRS.EPSG3857,\n",
              "        zoomControl: true,\n",
              "        });\n",
              "\n",
              "\n",
              "    \n",
              "    var tile_layer_a5e44d653a32dc5b5c7e176abe3c2e0d = L.tileLayer(\n",
              "        &#x27;https://{s}.tile.openstreetmap.org/{z}/{x}/{y}.png&#x27;,\n",
              "        {\n",
              "        &quot;attribution&quot;: null,\n",
              "        &quot;detectRetina&quot;: false,\n",
              "        &quot;maxNativeZoom&quot;: 18,\n",
              "        &quot;maxZoom&quot;: 18,\n",
              "        &quot;minZoom&quot;: 0,\n",
              "        &quot;noWrap&quot;: false,\n",
              "        &quot;opacity&quot;: 1,\n",
              "        &quot;subdomains&quot;: &quot;abc&quot;,\n",
              "        &quot;tms&quot;: false\n",
              "}).addTo(map_7ff2ab144aab451af29ab9750e9b4f18);\n",
              "    \n",
              "        var marker_e311a91e802bb535ebf5ba77a099521c = L.marker(\n",
              "            [-3.1316333, -59.9825041],\n",
              "            {\n",
              "                icon: new L.Icon.Default(),\n",
              "                }\n",
              "            ).addTo(map_7ff2ab144aab451af29ab9750e9b4f18);\n",
              "        \n",
              "    \n",
              "            var popup_64523015d656d612afdfecb1bcfac810 = L.popup({maxWidth: &#x27;100%&#x27;\n",
              "            \n",
              "            });\n",
              "\n",
              "            \n",
              "                var html_94c3dc9c1a65ee1a58d01cd0a9d60b2b = $(`&lt;div id=&quot;html_94c3dc9c1a65ee1a58d01cd0a9d60b2b&quot; style=&quot;width: 100.0%; height: 100.0%;&quot;&gt;Cidade 1, Manaus&lt;/div&gt;`)[0];\n",
              "                popup_64523015d656d612afdfecb1bcfac810.setContent(html_94c3dc9c1a65ee1a58d01cd0a9d60b2b);\n",
              "            \n",
              "\n",
              "            marker_e311a91e802bb535ebf5ba77a099521c.bindPopup(popup_64523015d656d612afdfecb1bcfac810)\n",
              "            ;\n",
              "\n",
              "            \n",
              "        \n",
              "    \n",
              "        var marker_6cbe904a7b5985b9118dd1aad24c408f = L.marker(\n",
              "            [-2.0486359, -60.0236658],\n",
              "            {\n",
              "                icon: new L.Icon.Default(),\n",
              "                }\n",
              "            ).addTo(map_7ff2ab144aab451af29ab9750e9b4f18);\n",
              "        \n",
              "    \n",
              "            var popup_457704231b71894231623f9e0caf9669 = L.popup({maxWidth: &#x27;100%&#x27;\n",
              "            \n",
              "            });\n",
              "\n",
              "            \n",
              "                var html_69227f4de576633cd49465ed2a81492a = $(`&lt;div id=&quot;html_69227f4de576633cd49465ed2a81492a&quot; style=&quot;width: 100.0%; height: 100.0%;&quot;&gt;Cidade 2, Presidente Figueiredo&lt;/div&gt;`)[0];\n",
              "                popup_457704231b71894231623f9e0caf9669.setContent(html_69227f4de576633cd49465ed2a81492a);\n",
              "            \n",
              "\n",
              "            marker_6cbe904a7b5985b9118dd1aad24c408f.bindPopup(popup_457704231b71894231623f9e0caf9669)\n",
              "            ;\n",
              "\n",
              "            \n",
              "        \n",
              "    \n",
              "        var marker_70bb1ce92e2e4d56bbf4da695a66b309 = L.marker(\n",
              "            [-3.1477898, -58.4461041],\n",
              "            {\n",
              "                icon: new L.Icon.Default(),\n",
              "                }\n",
              "            ).addTo(map_7ff2ab144aab451af29ab9750e9b4f18);\n",
              "        \n",
              "    \n",
              "            var popup_155746dc55064e9c9ebb3f803ce56e66 = L.popup({maxWidth: &#x27;100%&#x27;\n",
              "            \n",
              "            });\n",
              "\n",
              "            \n",
              "                var html_4181fcf14491a0ba625148c2a4266dfd = $(`&lt;div id=&quot;html_4181fcf14491a0ba625148c2a4266dfd&quot; style=&quot;width: 100.0%; height: 100.0%;&quot;&gt;Cidade 3, Itacoatiara&lt;/div&gt;`)[0];\n",
              "                popup_155746dc55064e9c9ebb3f803ce56e66.setContent(html_4181fcf14491a0ba625148c2a4266dfd);\n",
              "            \n",
              "\n",
              "            marker_70bb1ce92e2e4d56bbf4da695a66b309.bindPopup(popup_155746dc55064e9c9ebb3f803ce56e66)\n",
              "            ;\n",
              "\n",
              "            \n",
              "        \n",
              "    \n",
              "                var poly_line_6ba5b4657f5b6890f2ed24e1f0713d5b = L.polyline(\n",
              "                    [[-3.1316333, -59.9825041], [-2.0486359, -60.0236658], [-3.1477898, -58.4461041], [-3.1316333, -59.9825041]],\n",
              "                    {\n",
              "  &quot;bubblingMouseEvents&quot;: true,\n",
              "  &quot;color&quot;: &quot;#3388ff&quot;,\n",
              "  &quot;dashArray&quot;: null,\n",
              "  &quot;dashOffset&quot;: null,\n",
              "  &quot;fill&quot;: false,\n",
              "  &quot;fillColor&quot;: &quot;#3388ff&quot;,\n",
              "  &quot;fillOpacity&quot;: 0.2,\n",
              "  &quot;fillRule&quot;: &quot;evenodd&quot;,\n",
              "  &quot;lineCap&quot;: &quot;round&quot;,\n",
              "  &quot;lineJoin&quot;: &quot;round&quot;,\n",
              "  &quot;noClip&quot;: false,\n",
              "  &quot;opacity&quot;: 1.0,\n",
              "  &quot;smoothFactor&quot;: 1.0,\n",
              "  &quot;stroke&quot;: true,\n",
              "  &quot;weight&quot;: 3\n",
              "}\n",
              "                    )\n",
              "                    .addTo(map_7ff2ab144aab451af29ab9750e9b4f18);\n",
              "            \n",
              "&lt;/script&gt;\" style=\"position:absolute;width:100%;height:100%;left:0;top:0;border:none !important;\" allowfullscreen webkitallowfullscreen mozallowfullscreen></iframe></div></div>"
            ]
          },
          "metadata": {},
          "execution_count": 16
        }
      ]
    },
    {
      "cell_type": "markdown",
      "source": [
        "# Cálculos"
      ],
      "metadata": {
        "id": "j2UMN3XGyPRO"
      }
    },
    {
      "cell_type": "markdown",
      "source": [
        "Percebe-se então a formação de um triângulo retângulo, logo:\n",
        "\n",
        "a² = b² + c² ou h² = co² + ca²"
      ],
      "metadata": {
        "id": "vpXx5dYOyXek"
      }
    },
    {
      "cell_type": "markdown",
      "source": [
        "distPresItac² = distManaPres² + distManaItac²\n",
        "\n",
        "distPresItac² = 120² + 171²\n",
        "\n",
        "disPresItac² = 14400 + 29241\n",
        "\n",
        "disPresItac² = 43641\n",
        "\n",
        "disPresItac² = sqrt(43641)\n",
        "\n",
        "disPresItac = 3sqrt(4849)\n",
        "\n",
        "disPresItac é de aproximadamente 209Km"
      ],
      "metadata": {
        "id": "J3oJzP3Bz7rr"
      }
    },
    {
      "cell_type": "code",
      "source": [
        "x = math.sqrt((dist1**2) + (dist3**2));\n",
        "print(f'A distância entre {ncidade2} e {ncidade3} é de {x:.2f}Km\\n');"
      ],
      "metadata": {
        "colab": {
          "base_uri": "https://localhost:8080/"
        },
        "id": "JnbJdpG23PmJ",
        "outputId": "c2c2b4b3-bf18-46f2-cdc6-0c8edeb75fb6"
      },
      "execution_count": null,
      "outputs": [
        {
          "output_type": "stream",
          "name": "stdout",
          "text": [
            "A distância entre Presidente Figueiredo e Itacoatiara é de 208.64Km\n",
            "\n"
          ]
        }
      ]
    },
    {
      "cell_type": "code",
      "source": [
        "distancias = [dist1, dist2, dist3];\n",
        "valor_max = max(distancias);\n",
        "valor_min = min(distancias);\n",
        "print(f'O valor máximo é: {valor_max:.2f} e o valor mínimo é: {valor_min:.2f}\\n')"
      ],
      "metadata": {
        "colab": {
          "base_uri": "https://localhost:8080/"
        },
        "id": "zktw9WZBDE6t",
        "outputId": "67cc3846-1458-4c77-fbc9-937622b3b8e5"
      },
      "execution_count": null,
      "outputs": [
        {
          "output_type": "stream",
          "name": "stdout",
          "text": [
            "O valor máximo é: 213.42 e o valor mínimo é: 119.84\n",
            "\n"
          ]
        }
      ]
    },
    {
      "cell_type": "code",
      "source": [
        "taxa_fixa = float(input(\"Qual o valor da taxa fixa?\\n\"));\n",
        "taxa = float(input(\"Qual o valor da taxa?\\n\"));\n"
      ],
      "metadata": {
        "colab": {
          "base_uri": "https://localhost:8080/"
        },
        "id": "tarP_kd5IabC",
        "outputId": "73325b16-3e42-4744-b8ee-c47e8a9b7ec4"
      },
      "execution_count": null,
      "outputs": [
        {
          "name": "stdout",
          "output_type": "stream",
          "text": [
            "Qual o valor da taxa fixa?\n",
            "20\n",
            "Qual o valor da taxa?\n",
            "1.50\n"
          ]
        }
      ]
    },
    {
      "cell_type": "markdown",
      "source": [
        "Trajeto de menor custo"
      ],
      "metadata": {
        "id": "DYA754-kI0OB"
      }
    },
    {
      "cell_type": "markdown",
      "source": [
        "Tmin = 20 + (120*1,5)\n",
        "\n",
        "Tmin = 20 + 180\n",
        "\n",
        "Tmin = 200\n",
        "\n",
        "O trajeto de menor custo custa R$200,00"
      ],
      "metadata": {
        "id": "V7qJiK4rI48Z"
      }
    },
    {
      "cell_type": "code",
      "source": [
        "tmin = taxa_fixa + (taxa*valor_min);\n",
        "print(f'O menor trajeto custa {tmin:.2f}');"
      ],
      "metadata": {
        "colab": {
          "base_uri": "https://localhost:8080/"
        },
        "id": "CDEcBnH6JV2p",
        "outputId": "8a0fe3a0-6e4e-4fc9-8524-fcb18caf371c"
      },
      "execution_count": null,
      "outputs": [
        {
          "output_type": "stream",
          "name": "stdout",
          "text": [
            "O menor trajeto custa 199.76\n"
          ]
        }
      ]
    },
    {
      "cell_type": "markdown",
      "source": [
        "Trajeto de maior custo"
      ],
      "metadata": {
        "id": "llIrb4zHJr-D"
      }
    },
    {
      "cell_type": "markdown",
      "source": [
        "Tmax = 20 + (214*1,5)\n",
        "\n",
        "Tmin = 20 + 321\n",
        "\n",
        "Tmin = 341\n",
        "\n",
        "O trajeto de maior custo custa R$341,00"
      ],
      "metadata": {
        "id": "8qhdmsU-JupC"
      }
    },
    {
      "cell_type": "code",
      "source": [
        "tmax = taxa_fixa + (taxa*valor_max);\n",
        "print(f'O maior trajeto custa {tmax:.2f}');"
      ],
      "metadata": {
        "colab": {
          "base_uri": "https://localhost:8080/"
        },
        "id": "_7Njr1Y-J9Ak",
        "outputId": "b49a1a46-fac4-4ab6-ca11-5a77e46773b9"
      },
      "execution_count": null,
      "outputs": [
        {
          "output_type": "stream",
          "name": "stdout",
          "text": [
            "O maior trajeto custa 340.13\n"
          ]
        }
      ]
    },
    {
      "cell_type": "markdown",
      "source": [
        "# Alternativas"
      ],
      "metadata": {
        "id": "c-1NvOyMKSex"
      }
    },
    {
      "cell_type": "markdown",
      "source": [
        "A alternativa para a diminuição de custos, tendo somente a variação da distância, seria a troca de um trajeto em linha reta para um trajeto em curva, pois no globo, a menor distância entre dois pontos é uma curva."
      ],
      "metadata": {
        "id": "dRN_7G99KYoT"
      }
    }
  ]
}